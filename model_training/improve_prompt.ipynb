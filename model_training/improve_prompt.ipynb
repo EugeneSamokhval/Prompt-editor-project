{
 "cells": [
  {
   "cell_type": "code",
   "execution_count": null,
   "id": "81df96ca",
   "metadata": {},
   "outputs": [],
   "source": [
    "# Install dependencies\n",
    "import kagglehub\n",
    "from kagglehub import KaggleDatasetAdapter"
   ]
  },
  {
   "cell_type": "code",
   "execution_count": null,
   "id": "b493691a",
   "metadata": {},
   "outputs": [],
   "source": [
    "# Init consts\n",
    "file_path = \"datasets\"\n"
   ]
  },
  {
   "cell_type": "code",
   "execution_count": null,
   "id": "757cca08",
   "metadata": {},
   "outputs": [],
   "source": [
    "# Load the dataframe\n",
    "# https://www.kaggle.com/datasets/newtonbaba12345/llm-prompt-recovery-data-gemini-and-gemma\n",
    "df = kagglehub.load_dataset(\n",
    "  KaggleDatasetAdapter.PANDAS,\n",
    "  \"newtonbaba12345/llm-prompt-recovery-data-gemini-and-gemma\",\n",
    "  file_path,\n",
    ")\n"
   ]
  }
 ],
 "metadata": {
  "kernelspec": {
   "display_name": ".venv",
   "language": "python",
   "name": "python3"
  },
  "language_info": {
   "name": "python",
   "version": "3.11.8"
  }
 },
 "nbformat": 4,
 "nbformat_minor": 5
}
