{
 "cells": [
  {
   "cell_type": "code",
   "execution_count": 1,
   "id": "857dec16",
   "metadata": {},
   "outputs": [
    {
     "name": "stderr",
     "output_type": "stream",
     "text": [
      "e:\\Diploma\\.venv\\Lib\\site-packages\\tqdm\\auto.py:21: TqdmWarning: IProgress not found. Please update jupyter and ipywidgets. See https://ipywidgets.readthedocs.io/en/stable/user_install.html\n",
      "  from .autonotebook import tqdm as notebook_tqdm\n"
     ]
    },
    {
     "name": "stdout",
     "output_type": "stream",
     "text": [
      "Using device: cuda\n"
     ]
    }
   ],
   "source": [
    "\n",
    "import pandas as pd\n",
    "from sentence_transformers import SentenceTransformer\n",
    "import torch\n",
    "import numpy as np\n",
    "import pickle\n",
    "from tqdm import tqdm\n",
    "from pathlib import Path\n",
    "device = \"cuda\" if torch.cuda.is_available() else \"cpu\"\n",
    "batch_size = 512\n",
    "\n",
    "print(f\"Using device: {device}\")"
   ]
  },
  {
   "cell_type": "code",
   "execution_count": 2,
   "id": "4c913502",
   "metadata": {},
   "outputs": [],
   "source": [
    "# Load encoding model\n",
    "model_name = \"sentence-transformers/all-MiniLM-L6-v2\"\n",
    "model = SentenceTransformer(model_name).to(device)"
   ]
  },
  {
   "cell_type": "code",
   "execution_count": 3,
   "id": "3c3629ba",
   "metadata": {},
   "outputs": [],
   "source": [
    "def save_pickle(path: Path, arr: np.ndarray) -> None:\n",
    "    \"\"\"Write as a *single* 2-D float32 array; nothing nested.\"\"\"\n",
    "    path.parent.mkdir(parents=True, exist_ok=True)\n",
    "    with path.open(\"wb\") as f:\n",
    "        pickle.dump(arr.astype(\"float32\"), f, protocol=pickle.HIGHEST_PROTOCOL)\n"
   ]
  },
  {
   "cell_type": "code",
   "execution_count": 4,
   "id": "62196ef8",
   "metadata": {},
   "outputs": [],
   "source": [
    "def encode_batch(texts: list[str]) -> np.ndarray:\n",
    "    \"\"\"Encode → mean-pool → L2-normalise → numpy (m,384).\"\"\"\n",
    "    vec = model.encode(\n",
    "        texts,\n",
    "        batch_size=batch_size,\n",
    "        convert_to_numpy=True,\n",
    "        normalize_embeddings=True,   # L2 already\n",
    "        show_progress_bar=False,\n",
    "        device=device,\n",
    "    )\n",
    "    # sanity-check before returning\n",
    "    if vec.ndim != 2 or vec.shape[1] != 384:\n",
    "        raise ValueError(f\"expected (m,384), got {vec.shape}\")\n",
    "    return vec"
   ]
  },
  {
   "cell_type": "code",
   "execution_count": 5,
   "id": "bc735138",
   "metadata": {},
   "outputs": [
    {
     "name": "stderr",
     "output_type": "stream",
     "text": [
      "encode processed_chunk_1.csv: 100%|██████████| 654/654 [47:18<00:00,  4.34s/it]\n"
     ]
    },
    {
     "name": "stdout",
     "output_type": "stream",
     "text": [
      "✅  wrote 334,379 rows → datasets\\processed_chunk_1.pickle\n"
     ]
    },
    {
     "name": "stderr",
     "output_type": "stream",
     "text": [
      "encode processed_chunk_2.csv: 100%|██████████| 672/672 [48:39<00:00,  4.34s/it]\n"
     ]
    },
    {
     "name": "stdout",
     "output_type": "stream",
     "text": [
      "✅  wrote 344,031 rows → datasets\\processed_chunk_2.pickle\n"
     ]
    },
    {
     "name": "stderr",
     "output_type": "stream",
     "text": [
      "encode processed_chunk_3.csv: 100%|██████████| 683/683 [49:30<00:00,  4.35s/it]\n"
     ]
    },
    {
     "name": "stdout",
     "output_type": "stream",
     "text": [
      "✅  wrote 349,345 rows → datasets\\processed_chunk_3.pickle\n"
     ]
    },
    {
     "name": "stderr",
     "output_type": "stream",
     "text": [
      "encode processed_chunk_4.csv: 100%|██████████| 686/686 [49:53<00:00,  4.36s/it]\n"
     ]
    },
    {
     "name": "stdout",
     "output_type": "stream",
     "text": [
      "✅  wrote 350,909 rows → datasets\\processed_chunk_4.pickle\n"
     ]
    },
    {
     "name": "stderr",
     "output_type": "stream",
     "text": [
      "encode processed_chunk_5.csv: 100%|██████████| 686/686 [49:54<00:00,  4.36s/it]\n"
     ]
    },
    {
     "name": "stdout",
     "output_type": "stream",
     "text": [
      "✅  wrote 351,036 rows → datasets\\processed_chunk_5.pickle\n"
     ]
    }
   ],
   "source": [
    "# Convert prompts to a Python list (if not already)\n",
    "for i, csv_path in enumerate(sorted(Path(\"./datasets\").glob(\"processed_chunk_*.csv\")), 1):\n",
    "    df          = pd.read_csv(csv_path, usecols=[\"prompt\"])\n",
    "    prompts     = df[\"prompt\"].astype(str).tolist()\n",
    "\n",
    "    # Encode in mini-batches and concatenate\n",
    "    batches     = []\n",
    "    for start in tqdm(range(0, len(prompts), batch_size), desc=f\"encode {csv_path.name}\"):\n",
    "        batch = prompts[start:start + batch_size]\n",
    "        batches.append(encode_batch(batch))\n",
    "    embeddings  = np.vstack(batches)      # final shape  (N,384)\n",
    "\n",
    "    # final assert – catches mistakes *before* you write anything\n",
    "    assert embeddings.ndim == 2 and embeddings.shape[1] == 384, embeddings.shape\n",
    "\n",
    "    out_pickle  = Path(f\"./datasets/processed_chunk_{i}.pickle\")\n",
    "    save_pickle(out_pickle, embeddings)\n",
    "    print(f\"✅  wrote {embeddings.shape[0]:,} rows → {out_pickle}\")"
   ]
  },
  {
   "cell_type": "code",
   "execution_count": 6,
   "id": "e5ed2239",
   "metadata": {},
   "outputs": [],
   "source": [
    "chunk = None"
   ]
  },
  {
   "cell_type": "code",
   "execution_count": 7,
   "id": "e77ffe45",
   "metadata": {},
   "outputs": [],
   "source": [
    "embeddings = None"
   ]
  }
 ],
 "metadata": {
  "kernelspec": {
   "display_name": ".venv",
   "language": "python",
   "name": "python3"
  },
  "language_info": {
   "codemirror_mode": {
    "name": "ipython",
    "version": 3
   },
   "file_extension": ".py",
   "mimetype": "text/x-python",
   "name": "python",
   "nbconvert_exporter": "python",
   "pygments_lexer": "ipython3",
   "version": "3.11.8"
  }
 },
 "nbformat": 4,
 "nbformat_minor": 5
}
