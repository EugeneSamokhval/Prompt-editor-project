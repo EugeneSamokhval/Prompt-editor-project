{
 "cells": [
  {
   "cell_type": "code",
   "execution_count": 2,
   "id": "857dec16",
   "metadata": {},
   "outputs": [
    {
     "name": "stderr",
     "output_type": "stream",
     "text": [
      "e:\\Diploma\\.venv\\Lib\\site-packages\\tqdm\\auto.py:21: TqdmWarning: IProgress not found. Please update jupyter and ipywidgets. See https://ipywidgets.readthedocs.io/en/stable/user_install.html\n",
      "  from .autonotebook import tqdm as notebook_tqdm\n"
     ]
    },
    {
     "name": "stdout",
     "output_type": "stream",
     "text": [
      "Using device: cpu\n"
     ]
    }
   ],
   "source": [
    "\n",
    "import pandas as pd\n",
    "from sentence_transformers import SentenceTransformer\n",
    "import torch\n",
    "import numpy as np\n",
    "\n",
    "device = \"cuda\" if torch.cuda.is_available() else \"cpu\"\n",
    "print(f\"Using device: {device}\")"
   ]
  },
  {
   "cell_type": "code",
   "execution_count": 3,
   "id": "7001c594",
   "metadata": {},
   "outputs": [
    {
     "data": {
      "text/plain": [
       "4760963"
      ]
     },
     "execution_count": 3,
     "metadata": {},
     "output_type": "execute_result"
    }
   ],
   "source": [
    "# Load dataset\n",
    "dataframe_path = \"E:\\\\Diploma\\\\model_training\\\\datasets\\\\full_dataset.csv\"\n",
    "\n",
    "df = pd.read_csv(dataframe_path)\n",
    "\n",
    "len(df)"
   ]
  },
  {
   "cell_type": "code",
   "execution_count": 4,
   "id": "4c913502",
   "metadata": {},
   "outputs": [],
   "source": [
    "# Load encoding model\n",
    "model_name = \"sentence-transformers/all-MiniLM-L6-v2\"\n",
    "model = SentenceTransformer(model_name).to(device)"
   ]
  },
  {
   "cell_type": "code",
   "execution_count": null,
   "id": "bc735138",
   "metadata": {},
   "outputs": [
    {
     "name": "stderr",
     "output_type": "stream",
     "text": [
      "Batches: 100%|██████████| 1/1 [07:44<00:00, 464.33s/it]\n",
      "Batches: 100%|██████████| 1/1 [05:00<00:00, 300.60s/it]\n",
      "Batches: 100%|██████████| 1/1 [04:27<00:00, 267.14s/it]\n",
      "Batches: 100%|██████████| 1/1 [04:26<00:00, 266.89s/it]\n",
      "Batches: 100%|██████████| 1/1 [04:19<00:00, 259.24s/it]\n",
      "Batches:   0%|          | 0/1 [00:00<?, ?it/s]"
     ]
    }
   ],
   "source": [
    "# Convert prompts to a Python list (if not already)\n",
    "prompts_list = df['prompt'].astype(str).tolist()\n",
    "\n",
    "# We will encode in batches to avoid running out of memory on large datasets\n",
    "batch_size = 1048\n",
    "embeddings = []\n",
    "\n",
    "for start_idx in range(0, len(prompts_list), batch_size):\n",
    "    batch_prompts = prompts_list[start_idx:start_idx + batch_size]\n",
    "    batch_embeddings = model.encode(batch_prompts, \n",
    "                                    batch_size=batch_size, \n",
    "                                    show_progress_bar=True, \n",
    "                                    convert_to_numpy=True, \n",
    "                                    device=device)\n",
    "    embeddings.append(batch_embeddings)\n",
    "    \n",
    "embeddings = np.vstack(embeddings)\n",
    "\n",
    "print(\"Embeddings shape:\", embeddings.shape)"
   ]
  },
  {
   "cell_type": "code",
   "execution_count": null,
   "id": "e77ffe45",
   "metadata": {},
   "outputs": [],
   "source": [
    "np.save(\"prompt_embeddings.npy\", embeddings)\n",
    "print(\"Embeddings saved to 'prompt_embeddings.npy'\")"
   ]
  }
 ],
 "metadata": {
  "kernelspec": {
   "display_name": ".venv",
   "language": "python",
   "name": "python3"
  },
  "language_info": {
   "codemirror_mode": {
    "name": "ipython",
    "version": 3
   },
   "file_extension": ".py",
   "mimetype": "text/x-python",
   "name": "python",
   "nbconvert_exporter": "python",
   "pygments_lexer": "ipython3",
   "version": "3.11.8"
  }
 },
 "nbformat": 4,
 "nbformat_minor": 5
}
