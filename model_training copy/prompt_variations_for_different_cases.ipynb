{
 "cells": [
  {
   "cell_type": "code",
   "execution_count": null,
   "id": "62125b60",
   "metadata": {},
   "outputs": [],
   "source": [
    "# Install dependencies\n",
    "import kagglehub\n",
    "from kagglehub import KaggleDatasetAdapter"
   ]
  },
  {
   "cell_type": "code",
   "execution_count": null,
   "id": "ef44ef46",
   "metadata": {},
   "outputs": [],
   "source": [
    "# Set the consts\n",
    "file_path = \"datasets\""
   ]
  },
  {
   "cell_type": "code",
   "execution_count": null,
   "id": "5520d316",
   "metadata": {},
   "outputs": [],
   "source": [
    "# Load the latest version of dataframe\n",
    "# https://www.kaggle.com/datasets/lusfernandotorres/chatpgpt-prompts\n",
    "df = kagglehub.load_dataset(\n",
    "  KaggleDatasetAdapter.PANDAS,\n",
    "  \"lusfernandotorres/chatpgpt-prompts\",\n",
    "  file_path,\n",
    ")"
   ]
  }
 ],
 "metadata": {
  "kernelspec": {
   "display_name": ".venv",
   "language": "python",
   "name": "python3"
  },
  "language_info": {
   "name": "python",
   "version": "3.11.8"
  }
 },
 "nbformat": 4,
 "nbformat_minor": 5
}
