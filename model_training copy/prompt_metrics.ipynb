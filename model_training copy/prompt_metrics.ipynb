{
 "cells": [
  {
   "cell_type": "markdown",
   "id": "9abacbdd",
   "metadata": {},
   "source": [
    "# Prompt Improvement Service – Metrics Analysis\n",
    "\n",
    "This notebook measures how much your **prompt‑improvement service** boosts prompt quality.\n",
    "\n",
    "It expects **two CSV files**—one for *image‑generation* prompts and one for *chat* prompts—each with\n",
    "two columns:\n",
    "\n",
    "1. `original_prompt`\n",
    "2. `improved_prompt`\n",
    "\n",
    "> **Tip:** If your schema or file type is different, edit the *Load data* cell."
   ]
  },
  {
   "cell_type": "markdown",
   "id": "3d205b49",
   "metadata": {},
   "source": [
    "## 1. Setup"
   ]
  },
  {
   "cell_type": "code",
   "execution_count": 7,
   "id": "9eb3ffb2",
   "metadata": {},
   "outputs": [
    {
     "name": "stderr",
     "output_type": "stream",
     "text": [
      "[nltk_data] Downloading package stopwords to\n",
      "[nltk_data]     C:\\Users\\Евгений\\AppData\\Roaming\\nltk_data...\n",
      "[nltk_data]   Package stopwords is already up-to-date!\n",
      "[nltk_data] Downloading package punkt to\n",
      "[nltk_data]     C:\\Users\\Евгений\\AppData\\Roaming\\nltk_data...\n",
      "[nltk_data]   Package punkt is already up-to-date!\n",
      "[nltk_data] Downloading package averaged_perceptron_tagger to\n",
      "[nltk_data]     C:\\Users\\Евгений\\AppData\\Roaming\\nltk_data...\n",
      "[nltk_data]   Package averaged_perceptron_tagger is already up-to-\n",
      "[nltk_data]       date!\n",
      "[nltk_data] Downloading package wordnet to\n",
      "[nltk_data]     C:\\Users\\Евгений\\AppData\\Roaming\\nltk_data...\n",
      "[nltk_data]   Package wordnet is already up-to-date!\n",
      "[nltk_data] Downloading package omw-1.4 to\n",
      "[nltk_data]     C:\\Users\\Евгений\\AppData\\Roaming\\nltk_data...\n",
      "[nltk_data]   Package omw-1.4 is already up-to-date!\n",
      "[nltk_data] Downloading package universal_tagset to\n",
      "[nltk_data]     C:\\Users\\Евгений\\AppData\\Roaming\\nltk_data...\n",
      "[nltk_data]   Package universal_tagset is already up-to-date!\n"
     ]
    }
   ],
   "source": [
    "# Uncomment the next line on a fresh environment\n",
    "# !pip install pandas numpy matplotlib tqdm textstat tiktoken scikit-learn scipy\n",
    "\n",
    "import pandas as pd\n",
    "import numpy as np\n",
    "import matplotlib.pyplot as plt\n",
    "from pathlib import Path\n",
    "from tqdm import tqdm\n",
    "from prompt_rating import PromptRatingHandler, InputTypes\n",
    "import textstat              # readability scores\n",
    "import tiktoken              # token counts\n",
    "from sklearn.feature_extraction.text import CountVectorizer\n",
    "from scipy.stats import ttest_ind\n",
    "promptRatingService = PromptRatingHandler()\n",
    "plt.rcParams['figure.figsize'] = (9, 4)\n",
    "plt.rcParams['figure.dpi'] = 110\n",
    "plt.rcParams['axes.grid'] = True\n"
   ]
  },
  {
   "cell_type": "markdown",
   "id": "d30e224e",
   "metadata": {},
   "source": [
    "# 1.1 Imrove prompts"
   ]
  },
  {
   "cell_type": "code",
   "execution_count": null,
   "id": "39c168da",
   "metadata": {},
   "outputs": [],
   "source": []
  },
  {
   "cell_type": "markdown",
   "id": "c7213390",
   "metadata": {},
   "source": [
    "## 2. Load your prompt datasets"
   ]
  },
  {
   "cell_type": "code",
   "execution_count": 2,
   "id": "c65b9cb3",
   "metadata": {},
   "outputs": [
    {
     "name": "stdout",
     "output_type": "stream",
     "text": [
      "Loaded 10,000 image prompt pairs\n",
      "Loaded 153 chat prompt pairs\n"
     ]
    }
   ],
   "source": [
    "IMAGE_PATH = Path('./datasets/image_generation_prompts.csv')\n",
    "CHAT_PATH  = Path('./datasets/chatgpt_prompts.csv')\n",
    "\n",
    "image_df = pd.read_csv(IMAGE_PATH)\n",
    "chat_df  = pd.read_csv(CHAT_PATH)\n",
    "\n",
    "print(f'Loaded {len(image_df):,} image prompt pairs')\n",
    "print(f'Loaded {len(chat_df):,} chat prompt pairs')\n"
   ]
  },
  {
   "cell_type": "markdown",
   "id": "f3e1c911",
   "metadata": {},
   "source": [
    "## 3. Helper functions"
   ]
  },
  {
   "cell_type": "code",
   "execution_count": null,
   "id": "8b586a47",
   "metadata": {},
   "outputs": [],
   "source": [
    "enc = tiktoken.get_encoding('cl100k_base')\n",
    "\n",
    "def token_count(text: str) -> int:\n",
    "    \"\"\"Approximate GPT‑4 token count using tiktoken.\"\"\"\n",
    "    return len(enc.encode(text))\n",
    "\n",
    "def char_len(text: str) -> int:\n",
    "    return len(text)\n",
    "\n",
    "def word_len(text: str) -> int:\n",
    "    return len(text.split())\n",
    "\n",
    "def lexical_diversity(text: str) -> float:\n",
    "    words = text.split()\n",
    "    return len(set(words)) / max(len(words), 1)\n",
    "\n",
    "def readability(text: str) -> float:\n",
    "    \"\"\"Flesch Reading Ease (higher = easier).\"\"\"\n",
    "    try:\n",
    "        return textstat.flesch_reading_ease(text)\n",
    "    except Exception:\n",
    "        return np.nan\n",
    "\n",
    "def compute_pairwise_stats(df: pd.DataFrame) -> pd.DataFrame:\n",
    "    \"\"\"Row‑wise deltas between improved and original prompts.\"\"\"\n",
    "    return pd.DataFrame({\n",
    "        'tokens_delta'          : df['improved_prompt'].map(token_count)      - df['original_prompt'].map(token_count),\n",
    "        'chars_delta'           : df['improved_prompt'].map(char_len)         - df['original_prompt'].map(char_len),\n",
    "        'words_delta'           : df['improved_prompt'].map(word_len)         - df['original_prompt'].map(word_len),\n",
    "        'lexical_diversity_delta': df['improved_prompt'].map(lexical_diversity) - df['original_prompt'].map(lexical_diversity),\n",
    "        'readability_delta'     : df['improved_prompt'].map(readability)      - df['original_prompt'].map(readability),\n",
    "    })\n",
    "\n",
    "def summarize(df: pd.DataFrame, label: str) -> pd.DataFrame:\n",
    "    \"\"\"Aggregate descriptive metrics.\"\"\"\n",
    "    rows = []\n",
    "    for col in ['original_prompt', 'improved_prompt']:\n",
    "        rows.append({\n",
    "            'dataset'     : label,\n",
    "            'version'     : col.split('_')[0].title(),\n",
    "            'avg_tokens'  : df[col].map(token_count).mean(),\n",
    "            'avg_words'   : df[col].map(word_len).mean(),\n",
    "            'avg_chars'   : df[col].map(char_len).mean(),\n",
    "            'avg_lex_div' : df[col].map(lexical_diversity).mean(),\n",
    "            'avg_readab'  : df[col].map(readability).mean(),\n",
    "        })\n",
    "    return pd.DataFrame(rows)\n",
    "\n"
   ]
  },
  {
   "cell_type": "code",
   "execution_count": null,
   "id": "f062917c",
   "metadata": {},
   "outputs": [
    {
     "data": {
      "text/html": [
       "<div>\n",
       "<style scoped>\n",
       "    .dataframe tbody tr th:only-of-type {\n",
       "        vertical-align: middle;\n",
       "    }\n",
       "\n",
       "    .dataframe tbody tr th {\n",
       "        vertical-align: top;\n",
       "    }\n",
       "\n",
       "    .dataframe thead th {\n",
       "        text-align: right;\n",
       "    }\n",
       "</style>\n",
       "<table border=\"1\" class=\"dataframe\">\n",
       "  <thead>\n",
       "    <tr style=\"text-align: right;\">\n",
       "      <th></th>\n",
       "      <th>prompt</th>\n",
       "    </tr>\n",
       "  </thead>\n",
       "  <tbody>\n",
       "    <tr>\n",
       "      <th>0</th>\n",
       "      <td>simple mountain landscape</td>\n",
       "    </tr>\n",
       "    <tr>\n",
       "      <th>1</th>\n",
       "      <td>mind-blowing mountain landscape</td>\n",
       "    </tr>\n",
       "    <tr>\n",
       "      <th>2</th>\n",
       "      <td>mind-blowing desert caravan</td>\n",
       "    </tr>\n",
       "    <tr>\n",
       "      <th>3</th>\n",
       "      <td>mind-blowing cyber samurai</td>\n",
       "    </tr>\n",
       "    <tr>\n",
       "      <th>4</th>\n",
       "      <td>highly detailed robot</td>\n",
       "    </tr>\n",
       "  </tbody>\n",
       "</table>\n",
       "</div>"
      ],
      "text/plain": [
       "                            prompt\n",
       "0        simple mountain landscape\n",
       "1  mind-blowing mountain landscape\n",
       "2      mind-blowing desert caravan\n",
       "3       mind-blowing cyber samurai\n",
       "4            highly detailed robot"
      ]
     },
     "execution_count": 4,
     "metadata": {},
     "output_type": "execute_result"
    }
   ],
   "source": [
    "DatasetOfRatings = pd.DataFrame(columns=['prompt', 'rating'])\n",
    "for entry in image_df['prompt']:\n",
    "    promptRatingService.calculate(entry, ai_type=In)"
   ]
  },
  {
   "cell_type": "markdown",
   "id": "cd6d59cc",
   "metadata": {},
   "source": [
    "## 4. Compute summary metrics"
   ]
  },
  {
   "cell_type": "code",
   "execution_count": 5,
   "id": "cc72a4f4",
   "metadata": {},
   "outputs": [
    {
     "ename": "KeyError",
     "evalue": "'original_prompt'",
     "output_type": "error",
     "traceback": [
      "\u001b[31m---------------------------------------------------------------------------\u001b[39m",
      "\u001b[31mKeyError\u001b[39m                                  Traceback (most recent call last)",
      "\u001b[36mFile \u001b[39m\u001b[32me:\\Diploma\\.venv\\Lib\\site-packages\\pandas\\core\\indexes\\base.py:3805\u001b[39m, in \u001b[36mIndex.get_loc\u001b[39m\u001b[34m(self, key)\u001b[39m\n\u001b[32m   3804\u001b[39m \u001b[38;5;28;01mtry\u001b[39;00m:\n\u001b[32m-> \u001b[39m\u001b[32m3805\u001b[39m     \u001b[38;5;28;01mreturn\u001b[39;00m \u001b[38;5;28;43mself\u001b[39;49m\u001b[43m.\u001b[49m\u001b[43m_engine\u001b[49m\u001b[43m.\u001b[49m\u001b[43mget_loc\u001b[49m\u001b[43m(\u001b[49m\u001b[43mcasted_key\u001b[49m\u001b[43m)\u001b[49m\n\u001b[32m   3806\u001b[39m \u001b[38;5;28;01mexcept\u001b[39;00m \u001b[38;5;167;01mKeyError\u001b[39;00m \u001b[38;5;28;01mas\u001b[39;00m err:\n",
      "\u001b[36mFile \u001b[39m\u001b[32mindex.pyx:167\u001b[39m, in \u001b[36mpandas._libs.index.IndexEngine.get_loc\u001b[39m\u001b[34m()\u001b[39m\n",
      "\u001b[36mFile \u001b[39m\u001b[32mindex.pyx:196\u001b[39m, in \u001b[36mpandas._libs.index.IndexEngine.get_loc\u001b[39m\u001b[34m()\u001b[39m\n",
      "\u001b[36mFile \u001b[39m\u001b[32mpandas\\\\_libs\\\\hashtable_class_helper.pxi:7081\u001b[39m, in \u001b[36mpandas._libs.hashtable.PyObjectHashTable.get_item\u001b[39m\u001b[34m()\u001b[39m\n",
      "\u001b[36mFile \u001b[39m\u001b[32mpandas\\\\_libs\\\\hashtable_class_helper.pxi:7089\u001b[39m, in \u001b[36mpandas._libs.hashtable.PyObjectHashTable.get_item\u001b[39m\u001b[34m()\u001b[39m\n",
      "\u001b[31mKeyError\u001b[39m: 'original_prompt'",
      "\nThe above exception was the direct cause of the following exception:\n",
      "\u001b[31mKeyError\u001b[39m                                  Traceback (most recent call last)",
      "\u001b[36mCell\u001b[39m\u001b[36m \u001b[39m\u001b[32mIn[5]\u001b[39m\u001b[32m, line 1\u001b[39m\n\u001b[32m----> \u001b[39m\u001b[32m1\u001b[39m image_metrics = \u001b[43msummarize\u001b[49m\u001b[43m(\u001b[49m\u001b[43mimage_df\u001b[49m\u001b[43m,\u001b[49m\u001b[43m \u001b[49m\u001b[33;43m'\u001b[39;49m\u001b[33;43mImage\u001b[39;49m\u001b[33;43m'\u001b[39;49m\u001b[43m)\u001b[49m\n\u001b[32m      2\u001b[39m chat_metrics  = summarize(chat_df,  \u001b[33m'\u001b[39m\u001b[33mChat\u001b[39m\u001b[33m'\u001b[39m)\n\u001b[32m      3\u001b[39m metrics = pd.concat([image_metrics, chat_metrics], ignore_index=\u001b[38;5;28;01mTrue\u001b[39;00m)\n",
      "\u001b[36mCell\u001b[39m\u001b[36m \u001b[39m\u001b[32mIn[3]\u001b[39m\u001b[32m, line 41\u001b[39m, in \u001b[36msummarize\u001b[39m\u001b[34m(df, label)\u001b[39m\n\u001b[32m     36\u001b[39m rows = []\n\u001b[32m     37\u001b[39m \u001b[38;5;28;01mfor\u001b[39;00m col \u001b[38;5;129;01min\u001b[39;00m [\u001b[33m'\u001b[39m\u001b[33moriginal_prompt\u001b[39m\u001b[33m'\u001b[39m, \u001b[33m'\u001b[39m\u001b[33mimproved_prompt\u001b[39m\u001b[33m'\u001b[39m]:\n\u001b[32m     38\u001b[39m     rows.append({\n\u001b[32m     39\u001b[39m         \u001b[33m'\u001b[39m\u001b[33mdataset\u001b[39m\u001b[33m'\u001b[39m     : label,\n\u001b[32m     40\u001b[39m         \u001b[33m'\u001b[39m\u001b[33mversion\u001b[39m\u001b[33m'\u001b[39m     : col.split(\u001b[33m'\u001b[39m\u001b[33m_\u001b[39m\u001b[33m'\u001b[39m)[\u001b[32m0\u001b[39m].title(),\n\u001b[32m---> \u001b[39m\u001b[32m41\u001b[39m         \u001b[33m'\u001b[39m\u001b[33mavg_tokens\u001b[39m\u001b[33m'\u001b[39m  : \u001b[43mdf\u001b[49m\u001b[43m[\u001b[49m\u001b[43mcol\u001b[49m\u001b[43m]\u001b[49m.map(token_count).mean(),\n\u001b[32m     42\u001b[39m         \u001b[33m'\u001b[39m\u001b[33mavg_words\u001b[39m\u001b[33m'\u001b[39m   : df[col].map(word_len).mean(),\n\u001b[32m     43\u001b[39m         \u001b[33m'\u001b[39m\u001b[33mavg_chars\u001b[39m\u001b[33m'\u001b[39m   : df[col].map(char_len).mean(),\n\u001b[32m     44\u001b[39m         \u001b[33m'\u001b[39m\u001b[33mavg_lex_div\u001b[39m\u001b[33m'\u001b[39m : df[col].map(lexical_diversity).mean(),\n\u001b[32m     45\u001b[39m         \u001b[33m'\u001b[39m\u001b[33mavg_readab\u001b[39m\u001b[33m'\u001b[39m  : df[col].map(readability).mean(),\n\u001b[32m     46\u001b[39m     })\n\u001b[32m     47\u001b[39m \u001b[38;5;28;01mreturn\u001b[39;00m pd.DataFrame(rows)\n",
      "\u001b[36mFile \u001b[39m\u001b[32me:\\Diploma\\.venv\\Lib\\site-packages\\pandas\\core\\frame.py:4102\u001b[39m, in \u001b[36mDataFrame.__getitem__\u001b[39m\u001b[34m(self, key)\u001b[39m\n\u001b[32m   4100\u001b[39m \u001b[38;5;28;01mif\u001b[39;00m \u001b[38;5;28mself\u001b[39m.columns.nlevels > \u001b[32m1\u001b[39m:\n\u001b[32m   4101\u001b[39m     \u001b[38;5;28;01mreturn\u001b[39;00m \u001b[38;5;28mself\u001b[39m._getitem_multilevel(key)\n\u001b[32m-> \u001b[39m\u001b[32m4102\u001b[39m indexer = \u001b[38;5;28;43mself\u001b[39;49m\u001b[43m.\u001b[49m\u001b[43mcolumns\u001b[49m\u001b[43m.\u001b[49m\u001b[43mget_loc\u001b[49m\u001b[43m(\u001b[49m\u001b[43mkey\u001b[49m\u001b[43m)\u001b[49m\n\u001b[32m   4103\u001b[39m \u001b[38;5;28;01mif\u001b[39;00m is_integer(indexer):\n\u001b[32m   4104\u001b[39m     indexer = [indexer]\n",
      "\u001b[36mFile \u001b[39m\u001b[32me:\\Diploma\\.venv\\Lib\\site-packages\\pandas\\core\\indexes\\base.py:3812\u001b[39m, in \u001b[36mIndex.get_loc\u001b[39m\u001b[34m(self, key)\u001b[39m\n\u001b[32m   3807\u001b[39m     \u001b[38;5;28;01mif\u001b[39;00m \u001b[38;5;28misinstance\u001b[39m(casted_key, \u001b[38;5;28mslice\u001b[39m) \u001b[38;5;129;01mor\u001b[39;00m (\n\u001b[32m   3808\u001b[39m         \u001b[38;5;28misinstance\u001b[39m(casted_key, abc.Iterable)\n\u001b[32m   3809\u001b[39m         \u001b[38;5;129;01mand\u001b[39;00m \u001b[38;5;28many\u001b[39m(\u001b[38;5;28misinstance\u001b[39m(x, \u001b[38;5;28mslice\u001b[39m) \u001b[38;5;28;01mfor\u001b[39;00m x \u001b[38;5;129;01min\u001b[39;00m casted_key)\n\u001b[32m   3810\u001b[39m     ):\n\u001b[32m   3811\u001b[39m         \u001b[38;5;28;01mraise\u001b[39;00m InvalidIndexError(key)\n\u001b[32m-> \u001b[39m\u001b[32m3812\u001b[39m     \u001b[38;5;28;01mraise\u001b[39;00m \u001b[38;5;167;01mKeyError\u001b[39;00m(key) \u001b[38;5;28;01mfrom\u001b[39;00m\u001b[38;5;250m \u001b[39m\u001b[34;01merr\u001b[39;00m\n\u001b[32m   3813\u001b[39m \u001b[38;5;28;01mexcept\u001b[39;00m \u001b[38;5;167;01mTypeError\u001b[39;00m:\n\u001b[32m   3814\u001b[39m     \u001b[38;5;66;03m# If we have a listlike key, _check_indexing_error will raise\u001b[39;00m\n\u001b[32m   3815\u001b[39m     \u001b[38;5;66;03m#  InvalidIndexError. Otherwise we fall through and re-raise\u001b[39;00m\n\u001b[32m   3816\u001b[39m     \u001b[38;5;66;03m#  the TypeError.\u001b[39;00m\n\u001b[32m   3817\u001b[39m     \u001b[38;5;28mself\u001b[39m._check_indexing_error(key)\n",
      "\u001b[31mKeyError\u001b[39m: 'original_prompt'"
     ]
    }
   ],
   "source": [
    "image_metrics = summarize(image_df, 'Image')\n",
    "chat_metrics  = summarize(chat_df,  'Chat')\n",
    "metrics = pd.concat([image_metrics, chat_metrics], ignore_index=True)\n",
    "metrics.style.format('{:.2f}')\n"
   ]
  },
  {
   "cell_type": "markdown",
   "id": "30eef3fb",
   "metadata": {},
   "source": [
    "## 5. Improvement deltas (improved − original)"
   ]
  },
  {
   "cell_type": "code",
   "execution_count": null,
   "id": "15842f8a",
   "metadata": {},
   "outputs": [],
   "source": [
    "image_delta = compute_pairwise_stats(image_df)\n",
    "chat_delta  = compute_pairwise_stats(chat_df)\n",
    "\n",
    "def describe_delta(deltas, name):\n",
    "    print(f'\\n{name} prompts (Δ improved − original)')\n",
    "    display(deltas.describe(percentiles=[.25, .5, .75]).T)\n",
    "\n",
    "describe_delta(image_delta, 'Image')\n",
    "describe_delta(chat_delta,  'Chat')\n"
   ]
  },
  {
   "cell_type": "markdown",
   "id": "5773c46c",
   "metadata": {},
   "source": [
    "## 6. Visualise the distribution of gains"
   ]
  },
  {
   "cell_type": "code",
   "execution_count": null,
   "id": "40d4957e",
   "metadata": {},
   "outputs": [],
   "source": [
    "import matplotlib.pyplot as plt\n",
    "\n",
    "fig, axes = plt.subplots(1, 3, figsize=(15, 4))\n",
    "\n",
    "for ax, column in zip(axes, ['tokens_delta', 'lexical_diversity_delta', 'readability_delta']):\n",
    "    ax.hist(image_delta[column], alpha=0.6, label='Image', bins=30)\n",
    "    ax.hist(chat_delta[column],  alpha=0.6, label='Chat',  bins=30)\n",
    "    ax.set_title(column)\n",
    "    ax.legend()\n",
    "\n",
    "plt.tight_layout()\n",
    "plt.show()\n"
   ]
  },
  {
   "cell_type": "markdown",
   "id": "d05901cb",
   "metadata": {},
   "source": [
    "## 7. Statistical significance"
   ]
  },
  {
   "cell_type": "code",
   "execution_count": null,
   "id": "1a48d97b",
   "metadata": {},
   "outputs": [],
   "source": [
    "from scipy.stats import ttest_ind\n",
    "\n",
    "def sig_test(before, after):\n",
    "    \"\"\"Welch t‑test (unequal var).\"\"\"\n",
    "    return ttest_ind(after, before, equal_var=False)\n",
    "\n",
    "for df_, name in [(image_df, 'Image'), (chat_df, 'Chat')]:\n",
    "    t_stat, p = sig_test(df_['original_prompt'].map(token_count),\n",
    "                         df_['improved_prompt'].map(token_count))\n",
    "    print(f'{name} token length: t={t_stat:.2f}, p={p:.3g}')\n"
   ]
  },
  {
   "cell_type": "markdown",
   "id": "a6493f2c",
   "metadata": {},
   "source": [
    "## 8. Save the summary"
   ]
  },
  {
   "cell_type": "code",
   "execution_count": null,
   "id": "6267bd21",
   "metadata": {},
   "outputs": [],
   "source": [
    "metrics.to_csv('summary_metrics.csv', index=False)\n",
    "print('📁 summary_metrics.csv written to working directory')\n"
   ]
  },
  {
   "cell_type": "markdown",
   "id": "6ab7f846",
   "metadata": {},
   "source": [
    "---\n",
    "### Next steps\n",
    "* Add more specialised metrics (e.g. **CLIP** or **LLM‑based** quality judgments).\n",
    "* Integrate this notebook into a CI pipeline for continuous tracking.\n",
    "* Swap in your preferred tokeniser or readability metric if needed.\n",
    "\n",
    "Happy evaluating! 🚀"
   ]
  }
 ],
 "metadata": {
  "kernelspec": {
   "display_name": ".venv",
   "language": "python",
   "name": "python3"
  },
  "language_info": {
   "codemirror_mode": {
    "name": "ipython",
    "version": 3
   },
   "file_extension": ".py",
   "mimetype": "text/x-python",
   "name": "python",
   "nbconvert_exporter": "python",
   "pygments_lexer": "ipython3",
   "version": "3.11.8"
  }
 },
 "nbformat": 4,
 "nbformat_minor": 5
}
